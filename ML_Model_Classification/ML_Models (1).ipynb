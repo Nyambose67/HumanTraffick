{
  "nbformat": 4,
  "nbformat_minor": 0,
  "metadata": {
    "colab": {
      "provenance": []
    },
    "kernelspec": {
      "name": "python3",
      "display_name": "Python 3"
    },
    "language_info": {
      "name": "python"
    }
  },
  "cells": [
    {
      "cell_type": "code",
      "execution_count": 1,
      "metadata": {
        "colab": {
          "base_uri": "https://localhost:8080/"
        },
        "id": "ITY0YOt38JVb",
        "outputId": "4106e834-cb0b-4d97-952b-115c51da0e95"
      },
      "outputs": [
        {
          "output_type": "stream",
          "name": "stdout",
          "text": [
            "Mounted at /content/drive\n"
          ]
        }
      ],
      "source": [
        "from google.colab import drive\n",
        "drive.mount('/content/drive')"
      ]
    },
    {
      "cell_type": "code",
      "source": [],
      "metadata": {
        "id": "SwQfWSK3F-wI"
      },
      "execution_count": null,
      "outputs": []
    },
    {
      "cell_type": "markdown",
      "source": [
        "# Implement Naive Bayes\n",
        "\n",
        "Here, we will use Naive Bayes as our first classifier. We’ll train it on the email features and see how well it performs at detecting phishing emails (or potential human trafficking communications)."
      ],
      "metadata": {
        "id": "pmT79Wa88xY4"
      }
    },
    {
      "cell_type": "code",
      "source": [
        "# Import required libraries\n",
        "import pandas as pd\n",
        "from sklearn.feature_extraction.text import TfidfVectorizer\n",
        "from sklearn.model_selection import train_test_split\n",
        "from sklearn.naive_bayes import MultinomialNB\n",
        "from sklearn.metrics import classification_report, accuracy_score\n",
        "from sklearn.metrics import confusion_matrix\n",
        "import seaborn as sns\n",
        "import matplotlib.pyplot as plt\n",
        "\n",
        "# Load the dataset\n",
        "df = pd.read_csv('/content/drive/MyDrive/cleaned_phishing_emails.csv')\n",
        "\n",
        "# Use TfidfVectorizer to convert email text (subject and body) to numerical data\n",
        "vectorizer = TfidfVectorizer(stop_words='english', max_features=5000)\n",
        "\n",
        "# Combine 'subject' and 'body' columns into one text column\n",
        "df['text'] = df['subject'] + \" \" + df['body']\n",
        "\n",
        "# Fill missing values in the 'text' column with an empty string\n",
        "df['text'].fillna('', inplace=True)\n",
        "\n",
        "# Transform text data into TF-IDF features\n",
        "X = vectorizer.fit_transform(df['text'])\n",
        "\n",
        "# Label column\n",
        "y = df['label']\n",
        "\n",
        "# Split the data into training and testing sets\n",
        "X_train, X_test, y_train, y_test = train_test_split(X, y, test_size=0.3, random_state=42)\n",
        "\n",
        "# Initialize Naive Bayes classifier\n",
        "nb = MultinomialNB()\n",
        "\n",
        "# Train the classifier\n",
        "nb.fit(X_train, y_train)\n",
        "\n",
        "# Predict on the test set\n",
        "y_pred = nb.predict(X_test)\n",
        "\n",
        "# Print the classification report and accuracy\n",
        "print(\"Naive Bayes Classification Report:\")\n",
        "print(classification_report(y_test, y_pred))\n",
        "print(\"Accuracy:\", accuracy_score(y_test, y_pred))\n"
      ],
      "metadata": {
        "colab": {
          "base_uri": "https://localhost:8080/"
        },
        "id": "5eveH9hD8vg5",
        "outputId": "14dbbf07-133f-44d8-9cdf-b5caad061c6b"
      },
      "execution_count": 9,
      "outputs": [
        {
          "output_type": "stream",
          "name": "stderr",
          "text": [
            "<ipython-input-9-87aa4766544f>:21: FutureWarning: A value is trying to be set on a copy of a DataFrame or Series through chained assignment using an inplace method.\n",
            "The behavior will change in pandas 3.0. This inplace method will never work because the intermediate object on which we are setting values always behaves as a copy.\n",
            "\n",
            "For example, when doing 'df[col].method(value, inplace=True)', try using 'df.method({col: value}, inplace=True)' or df[col] = df[col].method(value) instead, to perform the operation inplace on the original object.\n",
            "\n",
            "\n",
            "  df['text'].fillna('', inplace=True)\n"
          ]
        },
        {
          "output_type": "stream",
          "name": "stdout",
          "text": [
            "Naive Bayes Classification Report:\n",
            "              precision    recall  f1-score   support\n",
            "\n",
            "           0       0.96      1.00      0.98      5198\n",
            "           1       1.00      0.96      0.98      6549\n",
            "\n",
            "    accuracy                           0.98     11747\n",
            "   macro avg       0.98      0.98      0.98     11747\n",
            "weighted avg       0.98      0.98      0.98     11747\n",
            "\n",
            "Accuracy: 0.9781220737209501\n"
          ]
        }
      ]
    },
    {
      "cell_type": "markdown",
      "source": [
        "Naive Bayes Confusion Matrix"
      ],
      "metadata": {
        "id": "cdhKLvr5GbJB"
      }
    },
    {
      "cell_type": "markdown",
      "source": [
        "# Apply Sentiment Analysis\n",
        "\n",
        "We'll use VADER for sentiment analysis and add the results as new features for further model building."
      ],
      "metadata": {
        "id": "jOFgCAQP8wEM"
      }
    },
    {
      "cell_type": "code",
      "source": [
        "# Install vaderSentiment library\n",
        "!pip install vaderSentiment\n",
        "\n",
        "from vaderSentiment.vaderSentiment import SentimentIntensityAnalyzer\n",
        "\n",
        "# Initialize VADER sentiment analyzer\n",
        "analyzer = SentimentIntensityAnalyzer()\n",
        "\n",
        "# Function to extract sentiment scores\n",
        "def get_sentiment(text):\n",
        "    sentiment_score = analyzer.polarity_scores(text)\n",
        "    return sentiment_score['compound']  # Use compound score for polarity\n",
        "\n",
        "# Apply sentiment analysis on 'text' column (combined subject and body)\n",
        "df['sentiment'] = df['text'].apply(get_sentiment)\n",
        "\n",
        "# Adding sentiment as a feature in the model\n",
        "X_with_sentiment = df[['text', 'sentiment']]  # Add both text and sentiment as features\n",
        "\n",
        "# Transform text data into TF-IDF features\n",
        "X_sentiment = vectorizer.fit_transform(df['text'])\n",
        "\n",
        "# Split the data into training and testing sets\n",
        "X_train_s, X_test_s, y_train_s, y_test_s = train_test_split(X_sentiment, y, test_size=0.3, random_state=42)\n",
        "\n",
        "# Train Naive Bayes with sentiment data\n",
        "nb.fit(X_train_s, y_train_s)\n",
        "\n",
        "# Predict on test data\n",
        "y_pred_s = nb.predict(X_test_s)\n",
        "\n",
        "# Evaluate the performance\n",
        "print(\"Naive Bayes with Sentiment Analysis - Classification Report:\")\n",
        "print(classification_report(y_test_s, y_pred_s))\n",
        "print(\"Accuracy:\", accuracy_score(y_test_s, y_pred_s))\n"
      ],
      "metadata": {
        "colab": {
          "base_uri": "https://localhost:8080/"
        },
        "id": "GKYcTBQ3_O7l",
        "outputId": "1146735e-048a-40ee-8ade-ea32d748386f"
      },
      "execution_count": 7,
      "outputs": [
        {
          "output_type": "stream",
          "name": "stdout",
          "text": [
            "Collecting vaderSentiment\n",
            "  Downloading vaderSentiment-3.3.2-py2.py3-none-any.whl.metadata (572 bytes)\n",
            "Requirement already satisfied: requests in /usr/local/lib/python3.10/dist-packages (from vaderSentiment) (2.32.3)\n",
            "Requirement already satisfied: charset-normalizer<4,>=2 in /usr/local/lib/python3.10/dist-packages (from requests->vaderSentiment) (3.4.0)\n",
            "Requirement already satisfied: idna<4,>=2.5 in /usr/local/lib/python3.10/dist-packages (from requests->vaderSentiment) (3.10)\n",
            "Requirement already satisfied: urllib3<3,>=1.21.1 in /usr/local/lib/python3.10/dist-packages (from requests->vaderSentiment) (2.2.3)\n",
            "Requirement already satisfied: certifi>=2017.4.17 in /usr/local/lib/python3.10/dist-packages (from requests->vaderSentiment) (2024.8.30)\n",
            "Downloading vaderSentiment-3.3.2-py2.py3-none-any.whl (125 kB)\n",
            "\u001b[?25l   \u001b[90m━━━━━━━━━━━━━━━━━━━━━━━━━━━━━━━━━━━━━━━━\u001b[0m \u001b[32m0.0/126.0 kB\u001b[0m \u001b[31m?\u001b[0m eta \u001b[36m-:--:--\u001b[0m\r\u001b[2K   \u001b[91m━━━━━━━━━━━━━━━━━━━━━━━━━━━━━\u001b[0m\u001b[90m╺\u001b[0m\u001b[90m━━━━━━━━━━\u001b[0m \u001b[32m92.2/126.0 kB\u001b[0m \u001b[31m3.3 MB/s\u001b[0m eta \u001b[36m0:00:01\u001b[0m\r\u001b[2K   \u001b[90m━━━━━━━━━━━━━━━━━━━━━━━━━━━━━━━━━━━━━━━━\u001b[0m \u001b[32m126.0/126.0 kB\u001b[0m \u001b[31m2.4 MB/s\u001b[0m eta \u001b[36m0:00:00\u001b[0m\n",
            "\u001b[?25hInstalling collected packages: vaderSentiment\n",
            "Successfully installed vaderSentiment-3.3.2\n",
            "Naive Bayes with Sentiment Analysis - Classification Report:\n",
            "              precision    recall  f1-score   support\n",
            "\n",
            "           0       0.96      1.00      0.98      5198\n",
            "           1       1.00      0.96      0.98      6549\n",
            "\n",
            "    accuracy                           0.98     11747\n",
            "   macro avg       0.98      0.98      0.98     11747\n",
            "weighted avg       0.98      0.98      0.98     11747\n",
            "\n",
            "Accuracy: 0.9781220737209501\n"
          ]
        }
      ]
    },
    {
      "cell_type": "markdown",
      "source": [
        "# Compare Results with SVM\n",
        "Now that we have a baseline with Naive Bayes, we now build an SVM model and see if it performs better."
      ],
      "metadata": {
        "id": "alJbrePEDZyO"
      }
    },
    {
      "cell_type": "code",
      "source": [
        "from sklearn.svm import SVC\n",
        "\n",
        "# Initialize SVM model\n",
        "svm = SVC(kernel='linear')\n",
        "\n",
        "# Train the SVM model\n",
        "svm.fit(X_train_s, y_train_s)\n",
        "\n",
        "# Predict using SVM on test data\n",
        "y_pred_svm = svm.predict(X_test_s)\n",
        "\n",
        "# Evaluate the SVM model\n",
        "print(\"SVM Classification Report:\")\n",
        "print(classification_report(y_test_s, y_pred_svm))\n",
        "print(\"Accuracy:\", accuracy_score(y_test_s, y_pred_svm))\n"
      ],
      "metadata": {
        "colab": {
          "base_uri": "https://localhost:8080/"
        },
        "id": "zOxWzeHrDBlK",
        "outputId": "5761de5f-80e3-469e-af1e-1333f813050a"
      },
      "execution_count": 8,
      "outputs": [
        {
          "output_type": "stream",
          "name": "stdout",
          "text": [
            "SVM Classification Report:\n",
            "              precision    recall  f1-score   support\n",
            "\n",
            "           0       1.00      0.99      0.99      5198\n",
            "           1       0.99      1.00      1.00      6549\n",
            "\n",
            "    accuracy                           1.00     11747\n",
            "   macro avg       1.00      1.00      1.00     11747\n",
            "weighted avg       1.00      1.00      1.00     11747\n",
            "\n",
            "Accuracy: 0.9955733378734997\n"
          ]
        }
      ]
    },
    {
      "cell_type": "markdown",
      "source": [
        "SVM has a higher accuracy than Naive Baiyes Classification therefore we to go SVM"
      ],
      "metadata": {
        "id": "KSys6FnTH2rd"
      }
    }
  ]
}