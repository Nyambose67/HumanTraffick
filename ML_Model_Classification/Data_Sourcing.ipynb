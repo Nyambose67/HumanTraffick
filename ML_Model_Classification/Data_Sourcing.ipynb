{
  "nbformat": 4,
  "nbformat_minor": 0,
  "metadata": {
    "colab": {
      "provenance": [],
      "toc_visible": true
    },
    "kernelspec": {
      "name": "python3",
      "display_name": "Python 3"
    },
    "language_info": {
      "name": "python"
    }
  },
  "cells": [
    {
      "cell_type": "markdown",
      "source": [
        "# Dataset Source:"
      ],
      "metadata": {
        "id": "qryt0eOR2kwa"
      }
    },
    {
      "cell_type": "markdown",
      "source": [
        "**Kaggle Dataset**: This phishing email dataset was sourced from Kaggle, a well-known platform for datasets and data science competitions. The dataset can be accessed via the following link:\n",
        "[Phishing Email Dataset](https://www.kaggle.com/datasets/naserabdullahalam/phishing-email-dataset)"
      ],
      "metadata": {
        "id": "SBhtgRdE46kC"
      }
    },
    {
      "cell_type": "markdown",
      "source": [
        "#Relevance of the Phishing Email Dataset to Human Trafficking"
      ],
      "metadata": {
        "id": "EXXo6z0t1RWK"
      }
    },
    {
      "cell_type": "markdown",
      "source": [
        "Human trafficking often involves deceptive recruitment methods, fraudulent offers, and coercive communication, which are frequently carried out through online platforms, emails, and other digital channels. Traffickers commonly use emails to reach potential victims under the guise of fake job offers, promises of better living conditions, or misleading opportunities. Therefore, a phishing email dataset like the one you've found can be a valuable tool in detecting and predicting these kinds of deceptive practices."
      ],
      "metadata": {
        "id": "Id_PP2Q91qxq"
      }
    },
    {
      "cell_type": "markdown",
      "source": [
        "#Relevance of Columns:"
      ],
      "metadata": {
        "id": "eQZfeNuc10_i"
      }
    },
    {
      "cell_type": "markdown",
      "source": [
        "This phishing email dataset can provide insights into detecting human trafficking-related activities through email-based deception. Each column has relevance in this context:\n",
        "\n",
        "- **sender**: Traffickers often use fake or suspicious email addresses to lure victims under the guise of legitimate organizations.\n",
        "receiver: Analyzing target recipients can reveal patterns that traffickers use to identify vulnerable individuals.\n",
        "- **date**: Timing of emails can highlight trends in trafficking-related communications, especially during high-risk periods.\n",
        "subject: Email subjects often contain keywords that traffickers use to attract victims (e.g., \"Job Offer\" or \"Work Abroad\").\n",
        "body: The content of the emails can expose deceptive recruitment tactics, such as fake job opportunities or financial promises.\n",
        "- **label**: The binary label indicates whether the email is phishing, helping train models to detect similar deceptive behavior in trafficking scenarios.\n",
        "- **urls**: Traffickers may use URLs in emails to direct victims to malicious websites, such as fake job applications or payment portals.\n",
        "\n",
        "These features align with the communication methods traffickers often use, making the dataset valuable for developing predictive models to detect human trafficking attempts."
      ],
      "metadata": {
        "id": "HXrDtgFX17Gi"
      }
    }
  ]
}