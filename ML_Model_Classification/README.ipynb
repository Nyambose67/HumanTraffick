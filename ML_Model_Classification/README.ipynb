{
  "nbformat": 4,
  "nbformat_minor": 0,
  "metadata": {
    "colab": {
      "provenance": []
    },
    "kernelspec": {
      "name": "python3",
      "display_name": "Python 3"
    },
    "language_info": {
      "name": "python"
    }
  },
  "cells": [
    {
      "cell_type": "markdown",
      "source": [
        "# **Human Trafficking Detection Using Phishing Email Dataset**\n",
        "\n",
        "## **Project Overview**\n",
        "This project aims to identify potential human trafficking activities by analyzing phishing emails, which are often used for illegal activities such as trafficking. By examining various email features, we develop machine learning models to classify emails as phishing or non-phishing, while also incorporating sentiment analysis to capture emotional undertones that may be linked to trafficking behavior.\n",
        "\n",
        "## **Dataset Source**\n",
        "We used the phishing email dataset, which contains the following columns:\n",
        "- **Sender**: Email address of the sender.\n",
        "- **Receiver**: Email address of the receiver.\n",
        "- **Date**: The date the email was sent.\n",
        "- **Subject**: Subject line of the email.\n",
        "- **Body**: Full content of the email.\n",
        "- **Label**: Classification of the email (1 = phishing, 0 = non-phishing).\n",
        "- **URLs**: Number of URLs in the email body.\n",
        "\n",
        "Dataset link: [Phishing Email Dataset](https://www.kaggle.com/datasets/naserabdullahalam/phishing-email-dataset)\n",
        "\n",
        "## **Data Preprocessing**\n",
        "- **Text Cleaning**: We removed URLs, special characters, and converted all text to lowercase to standardize the input.\n",
        "- **Handling Missing Values**: We checked for missing data, dropped records with missing values in critical columns like the label, and prepared the text data for vectorization.\n",
        "- **Text Vectorization**: We utilized TF-IDF to transform the email content into numerical features suitable for machine learning algorithms.\n",
        "\n",
        "## **Exploratory Data Analysis (EDA)**\n",
        "- **Missing Value Check**: We inspected for any missing data and handled them accordingly.\n",
        "- **Data Cleaning**: Removed noise from the text to improve model performance.\n",
        "- **Visualization**: Visualized the distribution of phishing vs. non-phishing emails to understand the data better.\n",
        "\n",
        "## **Modeling**\n",
        "We trained two machine learning models:\n",
        "1. **Naive Bayes**: A probabilistic model often used in text classification due to its simplicity and effectiveness.\n",
        "   - **Accuracy**: 97.81%\n",
        "   - **Precision**: 0.96 for non-phishing, 1.00 for phishing.\n",
        "   - **Recall**: 1.00 for non-phishing, 0.96 for phishing.\n",
        "   - **F1-Score**: 0.98 for both classes.\n",
        "\n",
        "2. **Support Vector Machine (SVM)**: Chosen for its high accuracy and ability to handle high-dimensional data.\n",
        "   - **Accuracy**: 99.56%\n",
        "   - **Precision**: 1.00 for non-phishing, 0.99 for phishing.\n",
        "   - **Recall**: 0.99 for non-phishing, 1.00 for phishing.\n",
        "   - **F1-Score**: 0.99 for non-phishing, 1.00 for phishing.\n",
        "\n",
        "### **Why SVM?**\n",
        "SVM demonstrated superior performance with a balanced precision and recall, minimizing both false positives and false negatives, making it the ideal choice for this classification problem.\n",
        "\n",
        "## **Sentiment Analysis**\n",
        "We incorporated VADER Sentiment Analysis to capture emotional tones in the email bodies. This helps in identifying whether emails with aggressive or emotional language patterns could be associated with trafficking behavior.\n",
        "\n",
        "## **Conclusion**\n",
        "This project successfully built a classification model for phishing emails, which could potentially be extended to detect emails related to human trafficking. By combining machine learning with sentiment analysis, we’ve enhanced the detection capabilities, enabling the system to flag not only phishing attempts but also suspicious emotional undertones in the emails.\n"
      ],
      "metadata": {
        "id": "Smuush0lJnS4"
      }
    }
  ]
}