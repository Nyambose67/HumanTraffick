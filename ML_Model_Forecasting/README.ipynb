{
  "nbformat": 4,
  "nbformat_minor": 0,
  "metadata": {
    "colab": {
      "provenance": []
    },
    "kernelspec": {
      "name": "python3",
      "display_name": "Python 3"
    },
    "language_info": {
      "name": "python"
    }
  },
  "cells": [
    {
      "cell_type": "code",
      "execution_count": null,
      "metadata": {
        "id": "gUGflRTFzIAI"
      },
      "outputs": [],
      "source": []
    },
    {
      "cell_type": "markdown",
      "source": [
        "# Human Trafficking Forecasting Using Time Series Analysis  \n",
        "## Project Overview  \n",
        "This project focuses on forecasting human trafficking trends using time series data. By applying a time series forecasting model (Prophet), we aim to predict future trafficking cases based on historical data, helping to identify potential trends and changes over time. Understanding these patterns enables better resource allocation and planning for interventions.\n",
        "\n",
        "## Dataset Source  \n",
        "We utilized a cleaned human trafficking dataset containing the following columns:\n",
        "\n",
        "- **REGION**: Geographical region where the trafficking cases occurred.\n",
        "- **SUB-REGION**: Sub-regions within the main region for more specific geographical insights.\n",
        "- **INDICATOR**: Type of trafficking, such as labor or sex trafficking.\n",
        "- **DIMENSION**: Different dimensions or factors of trafficking cases.\n",
        "- **CATEGORY**: Classification of the trafficking type.\n",
        "- **SEX**: Gender of the victims involved.\n",
        "- **AGE**: Age group of the victims.\n",
        "- **YEAR**: Year when the case was reported.\n",
        "- **COUNTS**: Number of cases reported.\n",
        "- **CASE-VALUE**: Actual numerical value of the trafficking cases.\n",
        "- **SOURCE**: Source of the data (e.g., reports from organizations or law enforcement).\n",
        "\n",
        "## Data Preprocessing  \n",
        "- **Date Parsing**: We formatted the `YEAR` column to create a time-based index for time series forecasting.\n",
        "- **Outlier Handling**: Since human trafficking data can have spikes (outliers), we downweighted the impact of these extreme values on the model’s trend and seasonality components to ensure the forecast remains reliable.\n",
        "- **Index Reset**: After filtering out certain columns, the dataset’s index was reset to ensure smooth processing.\n",
        "\n",
        "## Exploratory Data Analysis (EDA)  \n",
        "- **Missing Value Check**: There were no missing values in key columns such as `YEAR` and `CASE-VALUE`, ensuring the completeness of the dataset for forecasting.\n",
        "- **Visualization**: We plotted the number of cases over time to identify trends, spikes, and seasonality.\n",
        "\n",
        "## Forecasting Model  \n",
        "We employed Facebook Prophet for forecasting future trafficking cases due to its effectiveness in handling seasonality and trend components. Prophet also allows for the visualization of yearly seasonality, which is crucial for understanding patterns that repeat every year.\n",
        "\n",
        "### Prophet Model Performance  \n",
        "- **Trend Analysis**: The model identified a steady upward trend in the number of trafficking cases over the years, which could suggest an increase in reported cases or rising trafficking activities.\n",
        "- **Yearly Seasonality**: The seasonality plot showed cyclical patterns, with spikes occurring at certain times of the year, possibly correlating with specific events or periods that increase trafficking risk.\n",
        "\n",
        "### Insights from Forecast  \n",
        "- The forecast shows a slight but steady increase in the predicted trafficking cases over the next few years. While the model smoothens the trend, there were significant spikes in the dataset (likely outliers), which were downweighted to prevent overfitting.  \n",
        "- **Visualizations**:\n",
        "   - **Time Series Forecast**: A smooth line predicting future values, along with confidence intervals.\n",
        "   - **Trend and Seasonality Components**: Separate plots showing how the model identified a linear increase in cases over time and the recurring yearly patterns.\n",
        "\n",
        "## Technical Notes\n",
        "Initially, we attempted to run the forecasting using Jupyter Lab via PuTTY, but we experienced network issues that prevented us from proceeding. As a workaround, we switched to Google Colab, which provided a cloud-based environment for running the necessary time series analysis without any local configuration issues. This alternative allowed us to proceed with the project smoothly.\n",
        "\n",
        "## Conclusion  \n",
        "This project used time series forecasting to predict future human trafficking cases. By identifying both trend and seasonal patterns, the model provides insights into how trafficking may evolve, aiding policymakers and law enforcement in anticipating and responding to future trends. This method could potentially be expanded with additional data or refined with more localized information to improve accuracy.\n"
      ],
      "metadata": {
        "id": "5VF6dWh44_kU"
      }
    },
    {
      "cell_type": "code",
      "source": [],
      "metadata": {
        "id": "J_GcmDRb5Ad9"
      },
      "execution_count": null,
      "outputs": []
    }
  ]
}